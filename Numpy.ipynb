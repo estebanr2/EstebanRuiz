{
  "cells": [
    {
      "cell_type": "markdown",
      "metadata": {
        "id": "view-in-github",
        "colab_type": "text"
      },
      "source": [
        "<a href=\"https://colab.research.google.com/github/estebanr2/EstebanRuiz/blob/main/Numpy.ipynb\" target=\"_parent\"><img src=\"https://colab.research.google.com/assets/colab-badge.svg\" alt=\"Open In Colab\"/></a>"
      ]
    },
    {
      "cell_type": "code",
      "source": [
        "import numpy as np\n",
        "store_one = np.array([2,5,8,3,4,10,15,5])\n",
        "store_two = np.array([3,17,18,9,2,14,10])\n",
        "store_three = np.array([7,5,4,3,2,7,7])\n",
        "\n",
        "# print(np.mean(store_one))\n",
        "# print(np.mean(store_two))\n",
        "# print(np.mean(store_three))\n",
        "\n",
        "coin_toss = np.array([[1,0,0],\n",
        "                     [0,0,1],\n",
        "                     [1,0,1]])\n",
        "\n",
        "print(np.mean(coin_toss))\n",
        "print(np.mean(coin_toss, axis=0))\n",
        "print(np.mean(coin_toss, axis=1))"
      ],
      "metadata": {
        "id": "TnEYc_O5xrml",
        "outputId": "afcbef5b-1d5a-426f-9c85-5b6475691ed6",
        "colab": {
          "base_uri": "https://localhost:8080/"
        }
      },
      "execution_count": 5,
      "outputs": [
        {
          "output_type": "stream",
          "name": "stdout",
          "text": [
            "0.4444444444444444\n",
            "[0.66666667 0.         0.66666667]\n",
            "[0.33333333 0.33333333 0.66666667]\n"
          ]
        }
      ]
    },
    {
      "cell_type": "code",
      "source": [
        "allergy_trials = np.array([[6,1,3,8,2],\n",
        "                           [2,6,3,9,8],\n",
        "                           [5,2,6,9,9]])\n",
        "\n",
        "print(np.mean(allergy_trials))\n",
        "print(np.mean(allergy_trials, axis = 1))\n",
        "print(np.mean(allergy_trials, axis = 0))"
      ],
      "metadata": {
        "id": "YqrYzIs910A-",
        "outputId": "5e6e1a60-e024-4c11-fb87-7627a5a16c58",
        "colab": {
          "base_uri": "https://localhost:8080/"
        }
      },
      "execution_count": 8,
      "outputs": [
        {
          "output_type": "stream",
          "name": "stdout",
          "text": [
            "5.266666666666667\n",
            "[4.  5.6 6.2]\n",
            "[4.33333333 3.         4.         8.66666667 6.33333333]\n"
          ]
        }
      ]
    },
    {
      "cell_type": "code",
      "source": [
        "import numpy as np\n"
      ],
      "metadata": {
        "id": "GSr06KYr6BzC"
      },
      "execution_count": null,
      "outputs": []
    }
  ],
  "metadata": {
    "colab": {
      "name": "Te damos la bienvenida a Colaboratory",
      "provenance": [],
      "include_colab_link": true
    },
    "kernelspec": {
      "display_name": "Python 3",
      "name": "python3"
    }
  },
  "nbformat": 4,
  "nbformat_minor": 0
}