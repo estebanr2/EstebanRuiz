{
  "nbformat": 4,
  "nbformat_minor": 0,
  "metadata": {
    "colab": {
      "provenance": [],
      "authorship_tag": "ABX9TyPrEjOItI/evGyPZHbiAomr",
      "include_colab_link": true
    },
    "kernelspec": {
      "name": "python3",
      "display_name": "Python 3"
    },
    "language_info": {
      "name": "python"
    }
  },
  "cells": [
    {
      "cell_type": "markdown",
      "metadata": {
        "id": "view-in-github",
        "colab_type": "text"
      },
      "source": [
        "<a href=\"https://colab.research.google.com/github/estebanr2/EstebanRuiz/blob/main/Minesweeper.ipynb\" target=\"_parent\"><img src=\"https://colab.research.google.com/assets/colab-badge.svg\" alt=\"Open In Colab\"/></a>"
      ]
    },
    {
      "cell_type": "markdown",
      "source": [],
      "metadata": {
        "id": "h6NJ65yBrulZ"
      }
    },
    {
      "source": [
        "def create_board(rows,columns):\n",
        "  board = []\n",
        "  counter = 1\n",
        "  for i in range(rows):\n",
        "    temp_row = []\n",
        "    for j in range (columns):\n",
        "      temp_row.append(counter,)\n",
        "      counter += 1\n",
        "    board.append(temp_row)\n",
        "  return board\n",
        "\n",
        "def show_board(board):\n",
        "  matrix_row = len(board)\n",
        "  matrix_columns = len(board[0])\n",
        "  for i in range(matrix_row):\n",
        "    for j in range(matrix_columns):\n",
        "      print(board[i][j], end= \" | \")\n",
        "    print()\n",
        "\n",
        "\n",
        "board = create_board(5,5)\n",
        "show_board(board)"
      ],
      "cell_type": "code",
      "metadata": {
        "id": "y-F3_BcLCW1X",
        "outputId": "34164a8d-672f-45ab-ded2-175a8b615ccb",
        "colab": {
          "base_uri": "https://localhost:8080/"
        }
      },
      "execution_count": 13,
      "outputs": [
        {
          "output_type": "stream",
          "name": "stdout",
          "text": [
            "1 | 2 | 3 | 4 | 5 | \n",
            "6 | 7 | 8 | 9 | 10 | \n",
            "11 | 12 | 13 | 14 | 15 | \n",
            "16 | 17 | 18 | 19 | 20 | \n",
            "21 | 22 | 23 | 24 | 25 | \n"
          ]
        }
      ]
    },
    {
      "cell_type": "code",
      "source": [],
      "metadata": {
        "id": "h2XbjXDnHoNI"
      },
      "execution_count": null,
      "outputs": []
    }
  ]
}