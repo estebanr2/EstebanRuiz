{
  "nbformat": 4,
  "nbformat_minor": 0,
  "metadata": {
    "colab": {
      "provenance": [],
      "authorship_tag": "ABX9TyMv6H1CTsHl1618MblkEzn9",
      "include_colab_link": true
    },
    "kernelspec": {
      "name": "python3",
      "display_name": "Python 3"
    },
    "language_info": {
      "name": "python"
    }
  },
  "cells": [
    {
      "cell_type": "markdown",
      "metadata": {
        "id": "view-in-github",
        "colab_type": "text"
      },
      "source": [
        "<a href=\"https://colab.research.google.com/github/estebanr2/EstebanRuiz/blob/main/Matrices.ipynb\" target=\"_parent\"><img src=\"https://colab.research.google.com/assets/colab-badge.svg\" alt=\"Open In Colab\"/></a>"
      ]
    },
    {
      "cell_type": "markdown",
      "source": [],
      "metadata": {
        "id": "h6NJ65yBrulZ"
      }
    },
    {
      "source": [
        "def create_board(rows, columns):\n",
        "  board = []\n",
        "  for i in range(rows):\n",
        "    temp_row = []\n",
        "    for j in range(columns):\n",
        "      temp_row.append(0)\n",
        "    board.append(temp_row)\n",
        "  return board\n",
        "\n",
        "def show_board(board):\n",
        "  print()\n",
        "  board_rows = len(board)\n",
        "  board_columns = len(board[0])\n",
        "  for i in range(board_rows):\n",
        "    for j in range(board_columns):\n",
        "      print(board[i][j], end=\" \")\n",
        "    print()\n",
        "\n",
        "def board_txt(board):\n",
        "  txt = ''\n",
        "  board_rows = len(board)\n",
        "  board_columns = len(board[0])\n",
        "  for i in range(board_rows):\n",
        "    for j in range(board_columns):\n",
        "      txt += str(board[i][j]) + \" \"\n",
        "    txt += '\\n'\n",
        "  return txt\n",
        "\n",
        "board = create_board(3, 3)\n",
        "show_board(board)\n",
        "board[1][1] = \"x\"\n",
        "show_board(board)\n",
        "board[0][0] = \"x\"\n",
        "show_board(board)\n",
        "board[2][2] = \"x\"\n",
        "show_board(board)\n",
        "my_board = board_txt(board)\n",
        "print()0\n",
        "print(my_board)"
      ],
      "cell_type": "code",
      "metadata": {
        "id": "y-F3_BcLCW1X",
        "outputId": "ff6de459-1abd-4458-c432-de825b33649d",
        "colab": {
          "base_uri": "https://localhost:8080/"
        }
      },
      "execution_count": null,
      "outputs": [
        {
          "output_type": "stream",
          "name": "stdout",
          "text": [
            "\n",
            "0 0 0 \n",
            "0 0 0 \n",
            "0 0 0 \n",
            "\n",
            "0 0 0 \n",
            "0 x 0 \n",
            "0 0 0 \n",
            "\n",
            "x 0 0 \n",
            "0 x 0 \n",
            "0 0 0 \n",
            "\n",
            "x 0 0 \n",
            "0 x 0 \n",
            "0 0 x \n",
            "\n",
            "x| 0| 0| \n",
            "0| x| 0| \n",
            "0| 0| x| \n",
            "\n"
          ]
        }
      ]
    },
    {
      "cell_type": "code",
      "source": [
        "path = '/content/sample_data/mensaje.txt'\n",
        "with open(path) as file_info:\n",
        "  message = file_info.read()\n",
        "print(message)"
      ],
      "metadata": {
        "id": "h2XbjXDnHoNI",
        "outputId": "fb8f23d3-13f2-4aaf-bae3-ca9762e3c51f",
        "colab": {
          "base_uri": "https://localhost:8080/"
        }
      },
      "execution_count": null,
      "outputs": [
        {
          "output_type": "stream",
          "name": "stdout",
          "text": [
            "Amo a Billie Eilish Pirate Baird O' Conelll\n"
          ]
        }
      ]
    },
    {
      "cell_type": "code",
      "source": [
        "path = '/content/sample_data/cancion'\n",
        "with open(path) as file_info:\n",
        "  for line in file_info.readlines():\n",
        "    print(line, end = '')"
      ],
      "metadata": {
        "id": "PqS7JXu5KKmT",
        "outputId": "ea790628-924c-4cdd-86d6-a36f4106b345",
        "colab": {
          "base_uri": "https://localhost:8080/"
        }
      },
      "execution_count": null,
      "outputs": [
        {
          "output_type": "stream",
          "name": "stdout",
          "text": [
            "Do you like the way I flick my tongue or nah?\n",
            "You can ride my face until you drip in cum\n",
            "Can you lick the tip then throat the dick or nah?\n",
            "Can you let me stretch that pussy out or nah?\n",
            "I'm not the type to call you back tomorrow\n",
            "But the way you wrappin 'round me is a problem\n",
            "Ain't nobody tryna save ya\n",
            "Baby, get that paper\n",
            "Probably got a lot of other bitches owe you favors\n",
            "Pussy so good, I had to save that shit for later\n",
            "Took her to the kitchen, fucked her right there on the table\n",
            "She repping XO to the death, I'm tryna make these bitches sweat\n",
            "I'm tryna keep that pussy wet\n",
            "'M tryna fuck her and her friends\n"
          ]
        }
      ]
    },
    {
      "cell_type": "code",
      "source": [
        "my_board = create_board(4,4)\n",
        "my_board[2][2] = 'M'\n",
        "my_board[1][1] = 'M'\n",
        "show_board(my_board)\n",
        "path = '/content/sample_data/matriz.txt'\n",
        "with open(path,'w') as file_info:\n",
        "  file_info.write(str(my_board))"
      ],
      "metadata": {
        "id": "gm8wUwaKLMrC",
        "outputId": "10e0437a-2400-422e-d144-879baa880195",
        "colab": {
          "base_uri": "https://localhost:8080/"
        }
      },
      "execution_count": null,
      "outputs": [
        {
          "output_type": "stream",
          "name": "stdout",
          "text": [
            "0 0 0 0 \n",
            "0 M 0 0 \n",
            "0 0 M 0 \n",
            "0 0 0 0 \n"
          ]
        }
      ]
    },
    {
      "cell_type": "markdown",
      "source": [
        "funcion que al ejecutarse guarde en un archivo  un numero aleatorio y ademas de guardar el numero debe sumar ese nuevo numero al anterior\n",
        "\n"
      ],
      "metadata": {
        "id": "PHBC1ShJLmyB"
      }
    },
    {
      "cell_type": "code",
      "source": [
        "import random\n",
        "numero = random.randint(0,10)\n",
        "def write_random():\n",
        "  with open('/content/sample_data/random_numbers', 'a') as file:\n",
        "    file.write(str(numero))\n",
        "write_random\n",
        "\n",
        "for i in range(20):\n",
        "  write_random()"
      ],
      "metadata": {
        "id": "OfUKzDBpRcXu"
      },
      "execution_count": null,
      "outputs": []
    },
    {
      "source": [
        "import time\n",
        "from IPython.display import clear_output\n",
        "import random\n",
        "\n",
        "rows = 2\n",
        "columns = 3\n",
        "respaldo = [[\"|_|\" for i in range(columns)] for i in range(rows)]\n",
        "todas = ['J', 'Q', 'K', 'J', 'Q', 'K']\n",
        "enjuego = [[\"\" for i in range(columns)] for i in range (rows)]\n",
        "encontradas = []\n",
        "\n",
        "for i in range(len(enjuego)):\n",
        "  for j in range(len(enjuego[i])):\n",
        "    random_card = random.choice(todas)\n",
        "    enjuego[i][j] = '|' + random_card + '|'\n",
        "    todas.remove(random_card)\n",
        "\n",
        "def mostrar(cards):\n",
        "  for i in range(len(cards)):\n",
        "    for j in range(len(cards[i])):\n",
        "      print(cards[i][j], end=\" \")\n",
        "    print(\"\\n\")\n",
        "\n",
        "w = 2\n",
        "mostrar(enjuego)\n",
        "time.sleep(w)\n",
        "clear_output()\n",
        "mostrar(respaldo)\n",
        "time.sleep(w)\n",
        "\n",
        "\n",
        "def jugar():\n",
        "  puntaje = 0\n",
        "\n",
        "  for _ in range(rows * columns):\n",
        "    print(puntaje)\n",
        "    while True:\n",
        "      try:\n",
        "        row1 = int(input(\"Indique la fila de la primera carta: \"))\n",
        "        if 0 <= row1 < rows:\n",
        "          break\n",
        "        else:\n",
        "          print(\"Fila inválida. Debe estar entre 0 y\", rows - 1)\n",
        "      except ValueError:\n",
        "        print(\"Entrada inválida. Debe ingresar un número.\")\n",
        "\n",
        "    while True:\n",
        "      try:\n",
        "        column1 = int(input(\"Indique la columna de la primera carta: \"))\n",
        "        if 0 <= column1 < columns:\n",
        "          break\n",
        "        else:\n",
        "          print(\"Columna inválida. Debe estar entre 0 y\", columns - 1)\n",
        "      except ValueError:\n",
        "        print(\"Entrada inválida. Debe ingresar un número.\")\n",
        "\n",
        "    eleccion1 = respaldo.copy()\n",
        "    eleccion1[row1][column1] = enjuego[row1][column1]\n",
        "    clear_output()\n",
        "    mostrar(eleccion1)\n",
        "\n",
        "    # Validate input for row2 and column2\n",
        "    while True:\n",
        "      try:\n",
        "        row2 = int(input(\"Indique la fila de la segunda carta: \"))\n",
        "        if 0 <= row2 < rows:\n",
        "          break\n",
        "        else:\n",
        "          print(\"Fila inválida. Debe estar entre 0 y\", rows - 1)\n",
        "      except ValueError:\n",
        "        print(\"Entrada inválida. Debe ingresar un número.\")\n",
        "\n",
        "    while True:\n",
        "      try:\n",
        "        column2 = int(input(\"Indique la columna de la segunda carta: \"))\n",
        "        if 0 <= column2 < columns:\n",
        "          break\n",
        "        else:\n",
        "          print(\"Columna inválida. Debe estar entre 0 y\", columns - 1)\n",
        "      except ValueError:\n",
        "        print(\"Entrada inválida. Debe ingresar un número.\")\n",
        "\n",
        "    eleccion2 = respaldo.copy()\n",
        "    eleccion2[row2][column2] = enjuego[row2][column2]\n",
        "    clear_output()\n",
        "    mostrar(eleccion2)\n",
        "\n",
        "\n",
        "    if (row1, column1) in encontradas or (row2, column2) in encontradas:\n",
        "      print(\"Esa pareja ya ha sido encontrada. Intente de nuevo.\")\n",
        "      continue\n",
        "\n",
        "    if enjuego[row1][column1] == enjuego[row2][column2]:\n",
        "      print(\"¡Felicidades! Las cartas coinciden.\")\n",
        "\n",
        "      enjuego[row1][column1] = \"\"\n",
        "      enjuego[row2][column2] = \"\"\n",
        "      puntaje += 3\n",
        "\n",
        "      encontradas.append((row1, column1))\n",
        "      encontradas.append((row2, column2))\n",
        "\n",
        "      if not any(carta != \"\" for rows in enjuego for carta in rows):\n",
        "        print(\"¡Ganaste! Has encontrado todas las parejas. Tu puntaje final es:\", puntaje)\n",
        "        return\n",
        "\n",
        "    else:\n",
        "      print(\"Las cartas no coinciden. Inténtalo de nuevo.\")\n",
        "      puntaje -=2\n",
        "      time.sleep(2)\n",
        "\n",
        "      temp_respaldo = respaldo.copy()\n",
        "      temp_respaldo[row1][column1] = \"|_|\"\n",
        "      temp_respaldo[row2][column2] = \"|_|\"\n",
        "      clear_output()\n",
        "      mostrar(temp_respaldo)\n",
        "\n",
        "\n",
        "\n",
        "jugar()\n",
        "\n"
      ],
      "cell_type": "code",
      "metadata": {
        "id": "W1fZ2KWbm7S-",
        "outputId": "cd04fd2b-b5c0-4e48-9e9d-06bb18963c8a",
        "colab": {
          "base_uri": "https://localhost:8080/"
        }
      },
      "execution_count": 1,
      "outputs": [
        {
          "output_type": "stream",
          "name": "stdout",
          "text": [
            "|J| |Q| |J| \n",
            "\n",
            "|K| |Q| |K| \n",
            "\n",
            "¡Felicidades! Las cartas coinciden.\n",
            "¡Ganaste! Has encontrado todas las parejas. Tu puntaje final es: 7\n"
          ]
        }
      ]
    },
    {
      "cell_type": "code",
      "source": [],
      "metadata": {
        "id": "Ogqa06P9gcVq"
      },
      "execution_count": null,
      "outputs": []
    }
  ]
}