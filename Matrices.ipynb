{
  "nbformat": 4,
  "nbformat_minor": 0,
  "metadata": {
    "colab": {
      "provenance": [],
      "authorship_tag": "ABX9TyOdwjfqNIXm3TfvJhWt061d",
      "include_colab_link": true
    },
    "kernelspec": {
      "name": "python3",
      "display_name": "Python 3"
    },
    "language_info": {
      "name": "python"
    }
  },
  "cells": [
    {
      "cell_type": "markdown",
      "metadata": {
        "id": "view-in-github",
        "colab_type": "text"
      },
      "source": [
        "<a href=\"https://colab.research.google.com/github/estebanr2/EstebanRuiz/blob/main/Matrices.ipynb\" target=\"_parent\"><img src=\"https://colab.research.google.com/assets/colab-badge.svg\" alt=\"Open In Colab\"/></a>"
      ]
    },
    {
      "source": [
        "import time\n",
        "from IPython.display import clear_output\n",
        "import random\n",
        "\n",
        "rows = 2\n",
        "columns = 3\n",
        "respaldo = [[\"|_|\" for i in range(columns)] for i in range(rows)]\n",
        "todas = ['J', 'Q', 'K', 'J', 'Q', 'K']\n",
        "enjuego = [[\"\" for i in range(columns)] for i in range (rows)]\n",
        "encontradas = []\n",
        "\n",
        "for i in range(len(enjuego)):\n",
        "  for j in range(len(enjuego[i])):\n",
        "    random_card = random.choice(todas)\n",
        "    enjuego[i][j] = '|' + random_card + '|'\n",
        "    todas.remove(random_card)\n",
        "\n",
        "def mostrar(cards):\n",
        "  for i in range(len(cards)):\n",
        "    for j in range(len(cards[i])):\n",
        "      print(cards[i][j], end=\" \")\n",
        "    print(\"\\n\")\n",
        "\n",
        "w = 2\n",
        "mostrar(enjuego)\n",
        "time.sleep(w)\n",
        "clear_output()\n",
        "mostrar(respaldo)\n",
        "time.sleep(w)\n",
        "\n",
        "\n",
        "def jugar():\n",
        "  puntaje = 0\n",
        "\n",
        "  for _ in range(rows * columns):\n",
        "    print(puntaje)\n",
        "    while True:\n",
        "      try:\n",
        "        row1 = int(input(\"Indique la fila de la primera carta: \"))\n",
        "        if 0 <= row1 < rows:\n",
        "          break\n",
        "        else:\n",
        "          print(\"Fila inválida. Debe estar entre 0 y\", rows - 1)\n",
        "      except ValueError:\n",
        "        print(\"Entrada inválida. Debe ingresar un número.\")\n",
        "\n",
        "    while True:\n",
        "      try:\n",
        "        column1 = int(input(\"Indique la columna de la primera carta: \"))\n",
        "        if 0 <= column1 < columns:\n",
        "          break\n",
        "        else:\n",
        "          print(\"Columna inválida. Debe estar entre 0 y\", columns - 1)\n",
        "      except ValueError:\n",
        "        print(\"Entrada inválida. Debe ingresar un número.\")\n",
        "\n",
        "    eleccion1 = respaldo.copy()\n",
        "    eleccion1[row1][column1] = enjuego[row1][column1]\n",
        "    clear_output()\n",
        "    mostrar(eleccion1)\n",
        "\n",
        "    while True:\n",
        "      try:\n",
        "        row2 = int(input(\"Indique la fila de la segunda carta: \"))\n",
        "        if 0 <= row2 < rows:\n",
        "          break\n",
        "        else:\n",
        "          print(\"Fila inválida. Debe estar entre 0 y\", rows - 1)\n",
        "      except ValueError:\n",
        "        print(\"Entrada inválida. Debe ingresar un número.\")\n",
        "\n",
        "    while True:\n",
        "      try:\n",
        "        column2 = int(input(\"Indique la columna de la segunda carta: \"))\n",
        "        if 0 <= column2 < columns:\n",
        "          break\n",
        "        else:\n",
        "          print(\"Columna inválida. Debe estar entre 0 y\", columns - 1)\n",
        "      except ValueError:\n",
        "        print(\"Entrada inválida. Debe ingresar un número.\")\n",
        "\n",
        "    eleccion2 = respaldo.copy()\n",
        "    eleccion2[row2][column2] = enjuego[row2][column2]\n",
        "    clear_output()\n",
        "    mostrar(eleccion2)\n",
        "\n",
        "\n",
        "    if (row1, column1) in encontradas or (row2, column2) in encontradas:\n",
        "      print(\"Esa pareja ya ha sido encontrada. Intente de nuevo.\")\n",
        "      continue\n",
        "\n",
        "    if enjuego[row1][column1] == enjuego[row2][column2]:\n",
        "      print(\"¡Felicidades! Las cartas coinciden.\")\n",
        "\n",
        "      enjuego[row1][column1] = \"\"\n",
        "      enjuego[row2][column2] = \"\"\n",
        "      puntaje += 3\n",
        "\n",
        "      encontradas.append((row1, column1))\n",
        "      encontradas.append((row2, column2))\n",
        "\n",
        "      if not any(carta != \"\" for rows in enjuego for carta in rows):\n",
        "        print(\"¡Ganaste! Has encontrado todas las parejas. Tu puntaje final es:\", puntaje)\n",
        "        return\n",
        "\n",
        "    else:\n",
        "      print(\"Las cartas no coinciden. Inténtalo de nuevo.\")\n",
        "      puntaje -=2\n",
        "      time.sleep(2)\n",
        "\n",
        "      temp_respaldo = respaldo.copy()\n",
        "      temp_respaldo[row1][column1] = \"|_|\"\n",
        "      temp_respaldo[row2][column2] = \"|_|\"\n",
        "      clear_output()\n",
        "      mostrar(temp_respaldo)\n",
        "\n",
        "\n",
        "\n",
        "jugar()"
      ],
      "cell_type": "code",
      "metadata": {
        "id": "W1fZ2KWbm7S-",
        "outputId": "cd04fd2b-b5c0-4e48-9e9d-06bb18963c8a",
        "colab": {
          "base_uri": "https://localhost:8080/"
        }
      },
      "execution_count": null,
      "outputs": [
        {
          "output_type": "stream",
          "name": "stdout",
          "text": [
            "|J| |Q| |J| \n",
            "\n",
            "|K| |Q| |K| \n",
            "\n",
            "¡Felicidades! Las cartas coinciden.\n",
            "¡Ganaste! Has encontrado todas las parejas. Tu puntaje final es: 7\n"
          ]
        }
      ]
    },
    {
      "cell_type": "code",
      "source": [],
      "metadata": {
        "id": "Ogqa06P9gcVq"
      },
      "execution_count": null,
      "outputs": []
    }
  ]
}