{
  "cells": [
    {
      "cell_type": "markdown",
      "metadata": {
        "id": "view-in-github",
        "colab_type": "text"
      },
      "source": [
        "<a href=\"https://colab.research.google.com/github/estebanr2/EstebanRuiz/blob/main/Copia_de_v103.ipynb\" target=\"_parent\"><img src=\"https://colab.research.google.com/assets/colab-badge.svg\" alt=\"Open In Colab\"/></a>"
      ]
    },
    {
      "cell_type": "markdown",
      "metadata": {
        "id": "UaeS3P1-JJqx"
      },
      "source": [
        "# Primer archivo Markdown\n",
        "**3 backticks para bloque de codigo**\n",
        "```Python\n",
        "a = 3\n",
        "b = 5\n",
        "c = a+b\n",
        "print(c)\n",
        "```\n",
        "Salto de <br/> linea\n",
        "***\n",
        "## Listas\n",
        "- Leche\n",
        "- Huevo\n",
        "- Carnes\n",
        "    - Pescado\n",
        "    - Pollo\n",
        "1. Desconectar equipo\n",
        "2. Medir voltaje\n",
        "***\n",
        "## LaTeX\n",
        "La ecuacion que relaciona el voltaje $V$ en una resistencia $R$ con su corriente $I$ se conoce como la ley de ohm:<br/>\n",
        "$$V = RI$$\n"
      ]
    },
    {
      "cell_type": "code",
      "source": [],
      "metadata": {
        "id": "0rTjJwMJK1tQ"
      },
      "execution_count": null,
      "outputs": []
    },
    {
      "cell_type": "code",
      "execution_count": null,
      "metadata": {
        "colab": {
          "base_uri": "https://localhost:8080/"
        },
        "id": "8YcQ_oS5JPLt",
        "outputId": "81c72cb2-9bd2-425c-b3d9-2c95aeda0399"
      },
      "outputs": [
        {
          "name": "stdout",
          "output_type": "stream",
          "text": [
            "False\n",
            "False\n",
            "True\n",
            "False\n",
            "True\n",
            "False\n",
            "True\n"
          ]
        }
      ],
      "source": [
        " #expresiones booleanes\n",
        " print(1 == 0)\n",
        "a = 3\n",
        "b =5\n",
        "\n",
        "print (a == b)\n",
        "print (a != b)\n",
        "print (a > b)\n",
        "print (a < b)\n",
        "print (a >= b)\n",
        "print (a <= b)\n",
        "\n"
      ]
    },
    {
      "cell_type": "markdown",
      "metadata": {
        "id": "_2J416YfK8Oq"
      },
      "source": [
        "## Operadores booleanos\n",
        "\n",
        "Se utilizan para realizar operaciones entre expresiones booleanas. Son and, or y not"
      ]
    },
    {
      "cell_type": "code",
      "execution_count": null,
      "metadata": {
        "colab": {
          "base_uri": "https://localhost:8080/"
        },
        "id": "dnpMtnlJLL3S",
        "outputId": "e0e58918-4967-4635-96d6-30d159aed9b6"
      },
      "outputs": [
        {
          "name": "stdout",
          "output_type": "stream",
          "text": [
            "True False\n",
            "True False True\n"
          ]
        }
      ],
      "source": [
        "# Operadores Booleanos\n",
        "\n",
        "a = 2\n",
        "b = 3\n",
        "#not\n",
        "d = not a == b\n",
        "c = not d\n",
        "print(d, c)\n",
        "\n",
        "# and\n",
        "e = d and not c\n",
        "print(d, c, e)\n",
        "\n",
        "#or\n",
        "e = d or c\n",
        "print (e)"
      ]
    },
    {
      "cell_type": "markdown",
      "metadata": {
        "id": "GEmgA3XMQaLT"
      },
      "source": [
        "## Input\n",
        "\n",
        "Son las entradas de usuario por consola\n"
      ]
    },
    {
      "cell_type": "code",
      "execution_count": null,
      "metadata": {
        "colab": {
          "base_uri": "https://localhost:8080/"
        },
        "id": "zAX8N2-IQnD7",
        "outputId": "d4dac481-1beb-4a12-f586-9155218fa453"
      },
      "outputs": [
        {
          "name": "stdout",
          "output_type": "stream",
          "text": [
            "nombre: ok\n",
            "Apellido: ok\n",
            "Hola, \n"
          ]
        },
        {
          "data": {
            "text/plain": [
              "(None, 'okok', '¡Bienvenido a Python!')"
            ]
          },
          "execution_count": 19,
          "metadata": {},
          "output_type": "execute_result"
        }
      ],
      "source": [
        "firstname = input(\"nombre: \")\n",
        "lastname = input(\"Apellido: \")\n",
        "fullname = firstname + '' + lastname\n",
        "print(\"Hola, \"), fullname, \"¡Bienvenido a Python!\""
      ]
    },
    {
      "cell_type": "code",
      "execution_count": null,
      "metadata": {
        "id": "T_Hf76HuVKYr"
      },
      "outputs": [],
      "source": [
        "name = \"teban\"\n",
        "address = \"hogwarts\"\n",
        "city = \"edimburgo\"\n",
        "state = \"polombia\"\n",
        "zip = \"230001\"\n",
        "college_major = \"vagancia y turismo\"\n",
        "\n",
        "# name = input(\"Ingrese su nombre: \")\n",
        "# address = input(\"Ingrese su direccion: \")\n",
        "# city = input(\"Ingrese su ciudad: \")\n",
        "# state =input(\"Ingrese su pais: \")\n",
        "# zip =input(\"Ingrese su codigo postal: \")\n",
        "# college_major = input(\"Ingrese su titulo universitario\")\n",
        "\n",
        "message = f'''\n",
        "Datos del usuario\n",
        "'''"
      ]
    },
    {
      "cell_type": "code",
      "execution_count": null,
      "metadata": {
        "colab": {
          "base_uri": "https://localhost:8080/"
        },
        "id": "cxXLN3RHX6CL",
        "outputId": "d03708d4-646f-4f65-e808-ef418c725aed"
      },
      "outputs": [
        {
          "name": "stdout",
          "output_type": "stream",
          "text": [
            "4.0\n"
          ]
        }
      ],
      "source": [
        "# Suma de numeros\n",
        "a = float(2)\n",
        "b = float(2)\n",
        "c = a+b\n",
        "print (c)"
      ]
    },
    {
      "cell_type": "code",
      "execution_count": null,
      "metadata": {
        "id": "kDjiSkVPK0ar"
      },
      "outputs": [],
      "source": [
        "#Sales_prediction\n",
        "MARGIN = 0.23\n",
        "sales = float(input(\"Ingrese el numero total de ventas: $\"))\n",
        "print (f\"Las utilidades fueron de {sales*MARGIN}\")"
      ]
    },
    {
      "cell_type": "code",
      "execution_count": null,
      "metadata": {
        "id": "n144pTpUK0as"
      },
      "outputs": [],
      "source": [
        "#Land_Calculation\n",
        "squarefeet=(Input)"
      ]
    },
    {
      "cell_type": "code",
      "execution_count": null,
      "metadata": {
        "id": "obpYjcHHK0as"
      },
      "outputs": [],
      "source": [
        "#total_purchase\n",
        "TAX = 0.6\n",
        "item_1 = float(input(\"Ingrese el valor del item 1: $\"))\n",
        "item_2 = float(input(\"Ingrese el valor del item 2: $\"))\n",
        "item_3 = float(input(\"Ingrese el valor del item 3: $\"))\n",
        "item_4 = float(input(\"Ingrese el valor del item 4: $\"))\n",
        "item_5 = float(input(\"Ingrese el valor del item 5: $\"))\n",
        "subtotal = item_1 + item_2 + item_3 + item_4 + item_5\n",
        "sales_tax = subtotal  * TAX\n",
        "total = subtotal + TAX\n",
        "print(f\"subtotal: ${subtotal}\\nSales tax: ${sales_tax}\\nSubtotal: ${subtotal}\\ntotal: ${total}\")\n",
        "\n"
      ]
    },
    {
      "cell_type": "code",
      "source": [
        "score = 65\n",
        "if score > 90 :\n",
        "    print(\"¡Excelente!\")\n",
        "elif score > 60 :\n",
        "    print(\"Bien\")\n",
        "else:\n",
        "  print(\"Puede mejorar\")"
      ],
      "metadata": {
        "id": "X1-WWpqRK3kY",
        "outputId": "a20cee7d-fc62-4269-cd33-9958fdb3658e",
        "colab": {
          "base_uri": "https://localhost:8080/"
        }
      },
      "execution_count": 8,
      "outputs": [
        {
          "output_type": "stream",
          "name": "stdout",
          "text": [
            "Bien\n"
          ]
        }
      ]
    },
    {
      "cell_type": "code",
      "source": [
        "a = float(input(\"Ingrese a: \"))\n",
        "b = float(input(\"Ingrese b: \"))\n",
        "\n",
        "if a != 0:\n",
        "  x = -b/a\n",
        "  print(x)\n",
        "else:\n",
        "  if b != 0:\n",
        "    print(\"Solucion imposible\")\n",
        "  else:\n",
        "    print(\"Solucion indeterminada\")"
      ],
      "metadata": {
        "id": "7KP7oEFHMCkh",
        "outputId": "1eeeec89-4ed1-4bb1-e48d-525ac1a0c9eb",
        "colab": {
          "base_uri": "https://localhost:8080/"
        }
      },
      "execution_count": 15,
      "outputs": [
        {
          "output_type": "stream",
          "name": "stdout",
          "text": [
            "Ingrese a: 3\n",
            "Ingrese b: 4\n",
            "-1.3333333333333333\n"
          ]
        }
      ]
    },
    {
      "cell_type": "code",
      "source": [
        "#Salary\n",
        "name = \"Esteban\"\n",
        "hours = float(input(\"write the worked hours: \"))\n",
        "rate = float(input(\"Write the hour rate: \"))\n",
        "EXTRA_HOURS = 0.5\n",
        "BASE_TAX = 0.2\n",
        "EXTRA_TAX = 0.3\n",
        "\n",
        "if hours >= 35:\n",
        "  base_salary = hours * rate\n",
        "else:\n",
        "  base_salary = 35 * rate +(hours - 35) * (1 + EXTRA_HOURS) * rate\n",
        "\n",
        "if base_salary <= 2000:\n",
        "  tax = 0\n",
        "  else:\n",
        "    if"
      ],
      "metadata": {
        "id": "Kk6K_WhFOjes",
        "outputId": "11ecb611-945f-4ffd-9198-ba0985a3ef1c",
        "colab": {
          "base_uri": "https://localhost:8080/"
        }
      },
      "execution_count": 18,
      "outputs": [
        {
          "name": "stdout",
          "output_type": "stream",
          "text": [
            "write the worked hours: 35\n",
            "Write the hour rate: 1\n"
          ]
        }
      ]
    },
    {
      "cell_type": "code",
      "source": [
        "a = int(input(\"Ingresa un numero: \"))\n",
        "b = int(input(\"Ingresa un numero: \"))\n",
        "c = int(input(\"Ingresa un numero: \"))\n",
        "\n",
        "if a > b:\n",
        "  if b >c:\n",
        "    print(a, b, c)\n",
        "  else:\n",
        "    if c > a:\n",
        "      print(c, a , b)\n",
        "    else:\n",
        "      print(a, c, b)\n",
        "else:\n",
        "  if c > b:\n",
        "    print(b, a, c)\n",
        "  else:\n",
        "    print(b, c, a)"
      ],
      "metadata": {
        "id": "Oq2L7gweVmlN",
        "outputId": "fe40d117-b4e3-4da9-cc13-859187a65c43",
        "colab": {
          "base_uri": "https://localhost:8080/"
        }
      },
      "execution_count": 32,
      "outputs": [
        {
          "output_type": "stream",
          "name": "stdout",
          "text": [
            "Ingresa un numero: 1\n",
            "Ingresa un numero: 2\n",
            "Ingresa un numero: 3\n",
            "2 1 3\n"
          ]
        }
      ]
    },
    {
      "cell_type": "code",
      "source": [],
      "metadata": {
        "id": "hDfdtk1XZBvB"
      },
      "execution_count": null,
      "outputs": []
    }
  ],
  "metadata": {
    "colab": {
      "provenance": [],
      "include_colab_link": true
    },
    "kernelspec": {
      "display_name": "Python 3",
      "name": "python3"
    },
    "language_info": {
      "codemirror_mode": {
        "name": "ipython",
        "version": 3
      },
      "file_extension": ".py",
      "mimetype": "text/x-python",
      "name": "python",
      "nbconvert_exporter": "python",
      "pygments_lexer": "ipython3",
      "version": "3.12.1"
    }
  },
  "nbformat": 4,
  "nbformat_minor": 0
}