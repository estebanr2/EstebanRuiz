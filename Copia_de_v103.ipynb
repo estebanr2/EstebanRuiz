{
  "nbformat": 4,
  "nbformat_minor": 0,
  "metadata": {
    "colab": {
      "provenance": [],
      "authorship_tag": "ABX9TyNoFkoR7Miu1Hr0flGJC2aK",
      "include_colab_link": true
    },
    "kernelspec": {
      "name": "python3",
      "display_name": "Python 3"
    },
    "language_info": {
      "name": "python"
    }
  },
  "cells": [
    {
      "cell_type": "markdown",
      "metadata": {
        "id": "view-in-github",
        "colab_type": "text"
      },
      "source": [
        "<a href=\"https://colab.research.google.com/github/estebanr2/EstebanRuiz/blob/main/Copia_de_v103.ipynb\" target=\"_parent\"><img src=\"https://colab.research.google.com/assets/colab-badge.svg\" alt=\"Open In Colab\"/></a>"
      ]
    },
    {
      "cell_type": "markdown",
      "source": [
        "# Primer archivo Markdown\n",
        "**3 backticks para bloque de codigo**\n",
        "```Python\n",
        "a = 3\n",
        "b = 5\n",
        "c = a+b\n",
        "print(c)\n",
        "```\n",
        "Salto de <br/> linea\n",
        "***\n",
        "## Listas\n",
        "- Leche\n",
        "- Huevo\n",
        "- Carnes\n",
        "    - Pescado\n",
        "    - Pollo\n",
        "1. Desconectar equipo\n",
        "2. Medir voltaje\n",
        "***\n",
        "## LaTeX\n",
        "La ecuacion que relaciona el voltaje $V$ en una resistencia $R$ con su corriente $I$ se conoce como la ley de ohm:<br/>\n",
        "$$V = RI$$\n"
      ],
      "metadata": {
        "id": "UaeS3P1-JJqx"
      }
    },
    {
      "cell_type": "code",
      "source": [
        " #expresiones booleanes\n",
        " print(1 == 0)\n",
        "a = 3\n",
        "b =5\n",
        "\n",
        "print (a == b)\n",
        "print (a != b)\n",
        "print (a > b)\n",
        "print (a < b)\n",
        "print (a >= b)\n",
        "print (a <= b)\n",
        "\n"
      ],
      "metadata": {
        "colab": {
          "base_uri": "https://localhost:8080/"
        },
        "id": "8YcQ_oS5JPLt",
        "outputId": "81c72cb2-9bd2-425c-b3d9-2c95aeda0399"
      },
      "execution_count": null,
      "outputs": [
        {
          "output_type": "stream",
          "name": "stdout",
          "text": [
            "False\n",
            "False\n",
            "True\n",
            "False\n",
            "True\n",
            "False\n",
            "True\n"
          ]
        }
      ]
    },
    {
      "cell_type": "markdown",
      "source": [
        "## Operadores booleanos\n",
        "\n",
        "Se utilizan para realizar operaciones entre expresiones booleanas. Son and, or y not"
      ],
      "metadata": {
        "id": "_2J416YfK8Oq"
      }
    },
    {
      "cell_type": "code",
      "source": [
        "# Operadores Booleanos\n",
        "\n",
        "a = 2\n",
        "b = 3\n",
        "#not\n",
        "d = not a == b\n",
        "c = not d\n",
        "print(d, c)\n",
        "\n",
        "# and\n",
        "e = d and not c\n",
        "print(d, c, e)\n",
        "\n",
        "#or\n",
        "e = d or c\n",
        "print (e)"
      ],
      "metadata": {
        "id": "dnpMtnlJLL3S",
        "outputId": "e0e58918-4967-4635-96d6-30d159aed9b6",
        "colab": {
          "base_uri": "https://localhost:8080/"
        }
      },
      "execution_count": null,
      "outputs": [
        {
          "output_type": "stream",
          "name": "stdout",
          "text": [
            "True False\n",
            "True False True\n"
          ]
        }
      ]
    },
    {
      "cell_type": "markdown",
      "source": [
        "## Input\n",
        "\n",
        "Son las entradas de usuario por consola\n"
      ],
      "metadata": {
        "id": "GEmgA3XMQaLT"
      }
    },
    {
      "cell_type": "code",
      "source": [
        "firstname = input(\"nombre: \")\n",
        "lastname = input(\"Apellido: \")\n",
        "fullname = firstname + '' + lastname\n",
        "print(\"Hola, \"), fullname, \"¡Bienvenido a Python!\""
      ],
      "metadata": {
        "colab": {
          "base_uri": "https://localhost:8080/"
        },
        "id": "zAX8N2-IQnD7",
        "outputId": "d4dac481-1beb-4a12-f586-9155218fa453"
      },
      "execution_count": null,
      "outputs": [
        {
          "output_type": "stream",
          "name": "stdout",
          "text": [
            "nombre: ok\n",
            "Apellido: ok\n",
            "Hola, \n"
          ]
        },
        {
          "output_type": "execute_result",
          "data": {
            "text/plain": [
              "(None, 'okok', '¡Bienvenido a Python!')"
            ]
          },
          "metadata": {},
          "execution_count": 19
        }
      ]
    },
    {
      "cell_type": "code",
      "source": [
        "name = \"teban\"\n",
        "address = \"hogwarts\"\n",
        "city = \"edimburgo\"\n",
        "state = \"polombia\"\n",
        "zip = \"230001\"\n",
        "college_major = \"vagancia y turismo\"\n",
        "\n",
        "# name = input(\"Ingrese su nombre: \")\n",
        "# address = input(\"Ingrese su direccion: \")\n",
        "# city = input(\"Ingrese su ciudad: \")\n",
        "# state =input(\"Ingrese su pais: \")\n",
        "# zip =input(\"Ingrese su codigo postal: \")\n",
        "# college_major = input(\"Ingrese su titulo universitario\")\n",
        "\n",
        "message = f'''\n",
        "Datos del usuario\n",
        "'''"
      ],
      "metadata": {
        "id": "T_Hf76HuVKYr"
      },
      "execution_count": null,
      "outputs": []
    },
    {
      "cell_type": "code",
      "source": [
        "# Suma de numeros\n",
        "a = float(2)\n",
        "b = float(2)\n",
        "c = a+b\n",
        "print (c)"
      ],
      "metadata": {
        "colab": {
          "base_uri": "https://localhost:8080/"
        },
        "id": "cxXLN3RHX6CL",
        "outputId": "d03708d4-646f-4f65-e808-ef418c725aed"
      },
      "execution_count": null,
      "outputs": [
        {
          "output_type": "stream",
          "name": "stdout",
          "text": [
            "4.0\n"
          ]
        }
      ]
    }
  ]
}