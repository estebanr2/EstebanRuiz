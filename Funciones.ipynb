{
  "nbformat": 4,
  "nbformat_minor": 0,
  "metadata": {
    "colab": {
      "provenance": [],
      "authorship_tag": "ABX9TyNAGyxdAuuEYJDE3NL8jdC5",
      "include_colab_link": true
    },
    "kernelspec": {
      "name": "python3",
      "display_name": "Python 3"
    },
    "language_info": {
      "name": "python"
    }
  },
  "cells": [
    {
      "cell_type": "markdown",
      "metadata": {
        "id": "view-in-github",
        "colab_type": "text"
      },
      "source": [
        "<a href=\"https://colab.research.google.com/github/estebanr2/EstebanRuiz/blob/main/Funciones.ipynb\" target=\"_parent\"><img src=\"https://colab.research.google.com/assets/colab-badge.svg\" alt=\"Open In Colab\"/></a>"
      ]
    },
    {
      "cell_type": "code",
      "execution_count": null,
      "metadata": {
        "colab": {
          "base_uri": "https://localhost:8080/"
        },
        "id": "LkinV0Y1vyD1",
        "outputId": "d281d4d5-0ce4-41bb-951e-f36927fda01e"
      },
      "outputs": [
        {
          "output_type": "stream",
          "name": "stdout",
          "text": [
            "Hola:) Esteban\n"
          ]
        }
      ],
      "source": [
        "#Funciones\n",
        "\n",
        "def say_hello(name):\n",
        "    print(\"Hola:) \"+ name)\n",
        "\n",
        "say_hello(\"Esteban\")"
      ]
    },
    {
      "cell_type": "code",
      "source": [
        "def calculate_tax (income,expenses,tax = 00):\n",
        "  print(\"Impuesto total: $  \" + str((income-expenses)*tax/100))\n",
        "\n",
        "calculate_tax(1000,800,30)"
      ],
      "metadata": {
        "colab": {
          "base_uri": "https://localhost:8080/"
        },
        "id": "LdceT4iEwwXS",
        "outputId": "a541106a-eac5-4afb-8e03-92cd113b294e"
      },
      "execution_count": null,
      "outputs": [
        {
          "output_type": "stream",
          "name": "stdout",
          "text": [
            "Impuesto total: $  60.0\n"
          ]
        }
      ]
    },
    {
      "cell_type": "code",
      "source": [
        "def hipotenusa(a,b):\n",
        "  return (a**2 + b**2)**(1/2)\n",
        "a = 3\n",
        "b = 4\n",
        "\n",
        "print(hipotenusa(a,b))"
      ],
      "metadata": {
        "colab": {
          "base_uri": "https://localhost:8080/"
        },
        "id": "Fd73SSykyH5C",
        "outputId": "900b9e87-223b-414c-d05a-3433ddfd5ed4"
      },
      "execution_count": null,
      "outputs": [
        {
          "output_type": "stream",
          "name": "stdout",
          "text": [
            "5.0\n"
          ]
        }
      ]
    },
    {
      "cell_type": "code",
      "source": [
        "palabra = \"Sopas\"\n",
        "print(palabra[0])\n",
        "print(palabra[1:3])\n",
        "print(palabra[3:5])"
      ],
      "metadata": {
        "colab": {
          "base_uri": "https://localhost:8080/"
        },
        "id": "6Xc0Y3i92KI9",
        "outputId": "a67c6ca4-afd4-4b2e-8a56-e5023c9c32d5"
      },
      "execution_count": null,
      "outputs": [
        {
          "output_type": "stream",
          "name": "stdout",
          "text": [
            "S\n",
            "op\n",
            "as\n"
          ]
        }
      ]
    },
    {
      "cell_type": "code",
      "source": [
        "import random\n",
        "#reggaeton\n",
        "\n",
        "f1 = ['Mami ','Bebe ','Princess ','Mami ']\n",
        "f2 = ['yo quiero ','yo puedo ','yo vengo a ','voy a ']\n",
        "f3 = ['encendelte ','amalte ','ligar ','jugar ']\n",
        "f4 = ['suave ','lento ','rapido ','fuerte ']\n",
        "f5 = ['hasta que salga el sol ','toda la noche ','hasta el amanecer ','todo el dia ']\n",
        "f6 = ['sin anestesia ','sin compromiso ','feis to feis ','sin miedo ']\n",
        "\n",
        "palabras = [f1, f2, f3, f4, f5, f6]\n",
        "message = ''\n",
        "for part in palabras:\n",
        "  message += random.choice(part)\n",
        "print(message)"
      ],
      "metadata": {
        "id": "8eGENNOAi5Dk",
        "outputId": "54f5ce5d-6967-42df-f0d6-e30919bf75fc",
        "colab": {
          "base_uri": "https://localhost:8080/"
        }
      },
      "execution_count": 2,
      "outputs": [
        {
          "output_type": "stream",
          "name": "stdout",
          "text": [
            "Mami yo quiero amalte suave hasta que salga el sol sin compromiso \n"
          ]
        }
      ]
    },
    {
      "cell_type": "code",
      "source": [
        "reggaeton = {}\n",
        "f1 = ['Mami', 'Bebe ', 'Princess ', 'Mami ']\n",
        "f2 = ['yo quiero ','yo puedo ','yo vengo a ','voy a ']\n",
        "f3 = ['encendelte ','amalte ','ligar ','jugar ']\n",
        "f4 = ['suave ','lento ','rapido ','fuerte ']\n",
        "f5 = ['hasta que salga el sol ','toda la noche ','hasta el amanecer ','todo el dia ']\n",
        "f6 = ['sin anestesia ','sin compromiso ','feis to feis ','sin miedo ']\n",
        "reggaeton[\"f1\"] = f1\n",
        "reggaeton[\"f2\"] = f2\n",
        "reggaeton[\"f3\"] = f3\n",
        "reggaeton[\"f4\"] = f4\n",
        "reggaeton[\"f5\"] = f5\n",
        "reggaeton[\"f6\"] = f6\n",
        "\n",
        "def melquiades(reggaeton):\n",
        "\n",
        "  import random\n",
        "  verso =''\n",
        "  for key in reggaeton.keys():\n",
        "    verso+= str(random.choice(reggaeton[key]))\n",
        "  return verso\n",
        "\n"
      ],
      "metadata": {
        "id": "D7s6dtXRliSB"
      },
      "execution_count": 33,
      "outputs": []
    },
    {
      "cell_type": "code",
      "source": [
        "print(melquiades(reggaeton))"
      ],
      "metadata": {
        "id": "GfFD-l_2q5kZ",
        "outputId": "2c4ce7b0-bbe3-48fd-bf98-a35daee744a0",
        "colab": {
          "base_uri": "https://localhost:8080/"
        }
      },
      "execution_count": 34,
      "outputs": [
        {
          "output_type": "stream",
          "name": "stdout",
          "text": [
            "\n"
          ]
        }
      ]
    }
  ]
}