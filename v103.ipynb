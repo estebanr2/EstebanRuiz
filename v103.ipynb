{
  "nbformat": 4,
  "nbformat_minor": 0,
  "metadata": {
    "colab": {
      "provenance": [],
      "authorship_tag": "ABX9TyPTd3i+N+OPHJvCtNnKNn79",
      "include_colab_link": true
    },
    "kernelspec": {
      "name": "python3",
      "display_name": "Python 3"
    },
    "language_info": {
      "name": "python"
    }
  },
  "cells": [
    {
      "cell_type": "markdown",
      "metadata": {
        "id": "view-in-github",
        "colab_type": "text"
      },
      "source": [
        "<a href=\"https://colab.research.google.com/github/estebanr2/EstebanRuiz/blob/main/v103.ipynb\" target=\"_parent\"><img src=\"https://colab.research.google.com/assets/colab-badge.svg\" alt=\"Open In Colab\"/></a>"
      ]
    },
    {
      "cell_type": "markdown",
      "source": [
        "# Primer archivo Markdown\n",
        "**3 backticks para bloque de codigo**\n",
        "```Python\n",
        "a = 3\n",
        "b = 5\n",
        "c = a+b\n",
        "print(c)\n",
        "```\n",
        "Salto de <br/> linea\n",
        "***\n",
        "## Listas\n",
        "- Leche\n",
        "- Huevo\n",
        "- Carnes\n",
        "    - Pescado\n",
        "    - Pollo\n",
        "1. Desconectar equipo\n",
        "2. Medir voltaje\n",
        "***\n",
        "## LaTeX\n",
        "La ecuacion que relaciona el voltaje $V$ en una resistencia $R$ con su corriente $I$ se conoce como la ley de ohm:<br/>\n",
        "$$V = RI$$\n"
      ],
      "metadata": {
        "id": "UaeS3P1-JJqx"
      }
    },
    {
      "cell_type": "code",
      "source": [
        "print(1 == 0)\n"
      ],
      "metadata": {
        "colab": {
          "base_uri": "https://localhost:8080/"
        },
        "id": "8YcQ_oS5JPLt",
        "outputId": "5b36fad4-ba63-4a11-cdb3-7ce065b192b8"
      },
      "execution_count": 2,
      "outputs": [
        {
          "output_type": "stream",
          "name": "stdout",
          "text": [
            "False\n"
          ]
        }
      ]
    }
  ]
}